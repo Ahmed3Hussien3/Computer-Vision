{
 "cells": [
  {
   "cell_type": "code",
   "execution_count": 1,
   "id": "93ff484c",
   "metadata": {},
   "outputs": [],
   "source": [
    "import ultralytics"
   ]
  },
  {
   "cell_type": "code",
   "execution_count": 2,
   "id": "aaf32fd7",
   "metadata": {},
   "outputs": [],
   "source": [
    "from ultralytics import YOLO\n",
    "import os"
   ]
  },
  {
   "cell_type": "code",
   "execution_count": 3,
   "id": "c086798f",
   "metadata": {},
   "outputs": [],
   "source": [
    "os.chdir(r\"D:/CV Project/\")"
   ]
  },
  {
   "cell_type": "code",
   "execution_count": 5,
   "id": "acb99eaf",
   "metadata": {},
   "outputs": [],
   "source": [
    "model = YOLO('best.pt')"
   ]
  },
  {
   "cell_type": "code",
   "execution_count": 7,
   "id": "154d57df",
   "metadata": {},
   "outputs": [
    {
     "name": "stdout",
     "output_type": "stream",
     "text": [
      "\n",
      "image 1/1 D:\\CV Project\\asmaa.jpg: 640x480 1 Female Age- 25, 1 Female Age- 28, 202.9ms\n",
      "Speed: 4.0ms preprocess, 202.9ms inference, 2.0ms postprocess per image at shape (1, 3, 640, 480)\n"
     ]
    },
    {
     "data": {
      "text/plain": [
       "[ultralytics.engine.results.Results object with attributes:\n",
       " \n",
       " boxes: ultralytics.engine.results.Boxes object\n",
       " keypoints: None\n",
       " masks: None\n",
       " names: {0: 'Female Age- 1', 1: 'Female Age- 2', 2: 'Female Age- 22', 3: 'Female Age- 24', 4: 'Female Age- 25', 5: 'Female Age- 28', 6: 'Female Age- 30', 7: 'Female Age- 35', 8: 'Female Age- 45', 9: 'Female Age- 50', 10: 'Female Age- 60', 11: 'Female Age- 75', 12: 'Female Age-3', 13: 'Female Age-40', 14: 'Male Age- 1', 15: 'Male Age- 2', 16: 'Male Age- 22', 17: 'Male Age- 24', 18: 'Male Age- 25', 19: 'Male Age- 28', 20: 'Male Age- 3', 21: 'Male Age- 30', 22: 'Male Age- 35', 23: 'Male Age- 40', 24: 'Male Age- 45', 25: 'Male Age- 50', 26: 'Male Age- 60', 27: 'Male Age- 75'}\n",
       " orig_img: array([[[200, 200, 194],\n",
       "         [199, 199, 193],\n",
       "         [197, 197, 191],\n",
       "         ...,\n",
       "         [ 98, 100,  94],\n",
       "         [ 96,  98,  92],\n",
       "         [ 94,  96,  90]],\n",
       " \n",
       "        [[200, 200, 194],\n",
       "         [199, 199, 193],\n",
       "         [198, 198, 192],\n",
       "         ...,\n",
       "         [101, 103,  97],\n",
       "         [ 99, 101,  95],\n",
       "         [ 98, 100,  94]],\n",
       " \n",
       "        [[201, 201, 195],\n",
       "         [199, 199, 193],\n",
       "         [198, 198, 192],\n",
       "         ...,\n",
       "         [105, 107, 101],\n",
       "         [104, 106, 100],\n",
       "         [102, 104,  98]],\n",
       " \n",
       "        ...,\n",
       " \n",
       "        [[122, 147, 167],\n",
       "         [122, 147, 167],\n",
       "         [122, 147, 167],\n",
       "         ...,\n",
       "         [109, 119, 129],\n",
       "         [108, 118, 128],\n",
       "         [108, 118, 128]],\n",
       " \n",
       "        [[122, 147, 167],\n",
       "         [122, 147, 167],\n",
       "         [122, 147, 167],\n",
       "         ...,\n",
       "         [108, 118, 128],\n",
       "         [108, 118, 128],\n",
       "         [107, 117, 127]],\n",
       " \n",
       "        [[123, 148, 168],\n",
       "         [123, 148, 168],\n",
       "         [123, 148, 168],\n",
       "         ...,\n",
       "         [108, 118, 128],\n",
       "         [108, 118, 128],\n",
       "         [107, 117, 127]]], dtype=uint8)\n",
       " orig_shape: (1280, 960)\n",
       " path: 'D:\\\\CV Project\\\\asmaa.jpg'\n",
       " probs: None\n",
       " save_dir: None\n",
       " speed: {'preprocess': 3.9963722229003906, 'inference': 202.88419723510742, 'postprocess': 2.0003318786621094}]"
      ]
     },
     "execution_count": 7,
     "metadata": {},
     "output_type": "execute_result"
    }
   ],
   "source": [
    "model.predict(source='asmaa.jpg',show = True , conf = 0.25)"
   ]
  },
  {
   "cell_type": "code",
   "execution_count": null,
   "id": "15457ec3",
   "metadata": {},
   "outputs": [],
   "source": []
  },
  {
   "cell_type": "code",
   "execution_count": null,
   "id": "ab7a13ae",
   "metadata": {},
   "outputs": [],
   "source": []
  }
 ],
 "metadata": {
  "kernelspec": {
   "display_name": "Python 3",
   "language": "python",
   "name": "python3"
  },
  "language_info": {
   "codemirror_mode": {
    "name": "ipython",
    "version": 3
   },
   "file_extension": ".py",
   "mimetype": "text/x-python",
   "name": "python",
   "nbconvert_exporter": "python",
   "pygments_lexer": "ipython3",
   "version": "3.8.8"
  }
 },
 "nbformat": 4,
 "nbformat_minor": 5
}
